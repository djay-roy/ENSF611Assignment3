{
 "cells": [
  {
   "cell_type": "markdown",
   "id": "92778525",
   "metadata": {},
   "source": [
    "# Assignment 3: Non-Linear Models and Validation Metrics (37 total marks)\n",
    "### Due: October 24 at 11:59pm\n",
    "\n",
    "### Name: Dhananjay Roy"
   ]
  },
  {
   "cell_type": "markdown",
   "id": "ce31b39a",
   "metadata": {},
   "source": [
    "### In this assignment, you will need to write code that uses non-linear models to perform classification and regression tasks. You will also be asked to describe the process by which you came up with the code. More details can be found below. Please cite any websites or AI tools that you used to help you with this assignment."
   ]
  },
  {
   "cell_type": "markdown",
   "id": "cf275ca7",
   "metadata": {},
   "source": [
    "### Import Libraries"
   ]
  },
  {
   "cell_type": "code",
   "execution_count": 68,
   "id": "2b67a661",
   "metadata": {},
   "outputs": [],
   "source": [
    "import numpy as np\n",
    "import pandas as pd\n",
    "import matplotlib.pyplot as plt\n",
    "import seaborn as sns"
   ]
  },
  {
   "cell_type": "markdown",
   "id": "5ee2d2c3",
   "metadata": {},
   "source": [
    "## Part 1: Regression (14.5 marks)\n",
    "\n",
    "For this section, we will be continuing with the concrete example from yellowbrick. You will need to compare these results to the results from the previous assignment. Please use the results from the solution if you were unable to complete Assignment 2"
   ]
  },
  {
   "cell_type": "markdown",
   "id": "8219f163",
   "metadata": {},
   "source": [
    "### Step 1: Data Input (0.5 marks)\n",
    "\n",
    "The data used for this task can be downloaded using the yellowbrick library: \n",
    "https://www.scikit-yb.org/en/latest/api/datasets/concrete.html\n",
    "\n",
    "Use the yellowbrick function `load_concrete()` to load the concrete dataset into the feature matrix `X` and target vector `y`."
   ]
  },
  {
   "cell_type": "code",
   "execution_count": 69,
   "id": "2af8bd32",
   "metadata": {},
   "outputs": [
    {
     "name": "stdout",
     "output_type": "stream",
     "text": [
      "(1030, 8)\n",
      "(1030,)\n"
     ]
    }
   ],
   "source": [
    "# TO DO: Import concrete dataset from yellowbrick library\n",
    "from yellowbrick.datasets import load_concrete\n",
    "\n",
    "# Load the concrete dataset\n",
    "X, y = load_concrete()\n",
    "\n",
    "# Print the shapes of X and y to confirm the data is loaded\n",
    "print(X.shape)\n",
    "print(y.shape)"
   ]
  },
  {
   "cell_type": "markdown",
   "id": "42fea4cc",
   "metadata": {},
   "source": [
    "### Step 2: Data Processing (0 marks)\n",
    "\n",
    "Data processing was completed in the previous assignment. No need to repeat here."
   ]
  },
  {
   "cell_type": "markdown",
   "id": "2a245d00",
   "metadata": {},
   "source": [
    "### Step 3: Implement Machine Learning Model\n",
    "\n",
    "1. Import the Decision Tree, Random Forest and Gradient Boosting Machines regression models from sklearn\n",
    "2. Instantiate the three models with `max_depth = 5`. Are there any other parameters that you will need to set?\n",
    "3. Implement each machine learning model with `X` and `y`"
   ]
  },
  {
   "cell_type": "code",
   "execution_count": 70,
   "metadata": {},
   "outputs": [
    {
     "data": {
      "text/html": [
       "<style>#sk-container-id-9 {color: black;}#sk-container-id-9 pre{padding: 0;}#sk-container-id-9 div.sk-toggleable {background-color: white;}#sk-container-id-9 label.sk-toggleable__label {cursor: pointer;display: block;width: 100%;margin-bottom: 0;padding: 0.3em;box-sizing: border-box;text-align: center;}#sk-container-id-9 label.sk-toggleable__label-arrow:before {content: \"▸\";float: left;margin-right: 0.25em;color: #696969;}#sk-container-id-9 label.sk-toggleable__label-arrow:hover:before {color: black;}#sk-container-id-9 div.sk-estimator:hover label.sk-toggleable__label-arrow:before {color: black;}#sk-container-id-9 div.sk-toggleable__content {max-height: 0;max-width: 0;overflow: hidden;text-align: left;background-color: #f0f8ff;}#sk-container-id-9 div.sk-toggleable__content pre {margin: 0.2em;color: black;border-radius: 0.25em;background-color: #f0f8ff;}#sk-container-id-9 input.sk-toggleable__control:checked~div.sk-toggleable__content {max-height: 200px;max-width: 100%;overflow: auto;}#sk-container-id-9 input.sk-toggleable__control:checked~label.sk-toggleable__label-arrow:before {content: \"▾\";}#sk-container-id-9 div.sk-estimator input.sk-toggleable__control:checked~label.sk-toggleable__label {background-color: #d4ebff;}#sk-container-id-9 div.sk-label input.sk-toggleable__control:checked~label.sk-toggleable__label {background-color: #d4ebff;}#sk-container-id-9 input.sk-hidden--visually {border: 0;clip: rect(1px 1px 1px 1px);clip: rect(1px, 1px, 1px, 1px);height: 1px;margin: -1px;overflow: hidden;padding: 0;position: absolute;width: 1px;}#sk-container-id-9 div.sk-estimator {font-family: monospace;background-color: #f0f8ff;border: 1px dotted black;border-radius: 0.25em;box-sizing: border-box;margin-bottom: 0.5em;}#sk-container-id-9 div.sk-estimator:hover {background-color: #d4ebff;}#sk-container-id-9 div.sk-parallel-item::after {content: \"\";width: 100%;border-bottom: 1px solid gray;flex-grow: 1;}#sk-container-id-9 div.sk-label:hover label.sk-toggleable__label {background-color: #d4ebff;}#sk-container-id-9 div.sk-serial::before {content: \"\";position: absolute;border-left: 1px solid gray;box-sizing: border-box;top: 0;bottom: 0;left: 50%;z-index: 0;}#sk-container-id-9 div.sk-serial {display: flex;flex-direction: column;align-items: center;background-color: white;padding-right: 0.2em;padding-left: 0.2em;position: relative;}#sk-container-id-9 div.sk-item {position: relative;z-index: 1;}#sk-container-id-9 div.sk-parallel {display: flex;align-items: stretch;justify-content: center;background-color: white;position: relative;}#sk-container-id-9 div.sk-item::before, #sk-container-id-9 div.sk-parallel-item::before {content: \"\";position: absolute;border-left: 1px solid gray;box-sizing: border-box;top: 0;bottom: 0;left: 50%;z-index: -1;}#sk-container-id-9 div.sk-parallel-item {display: flex;flex-direction: column;z-index: 1;position: relative;background-color: white;}#sk-container-id-9 div.sk-parallel-item:first-child::after {align-self: flex-end;width: 50%;}#sk-container-id-9 div.sk-parallel-item:last-child::after {align-self: flex-start;width: 50%;}#sk-container-id-9 div.sk-parallel-item:only-child::after {width: 0;}#sk-container-id-9 div.sk-dashed-wrapped {border: 1px dashed gray;margin: 0 0.4em 0.5em 0.4em;box-sizing: border-box;padding-bottom: 0.4em;background-color: white;}#sk-container-id-9 div.sk-label label {font-family: monospace;font-weight: bold;display: inline-block;line-height: 1.2em;}#sk-container-id-9 div.sk-label-container {text-align: center;}#sk-container-id-9 div.sk-container {/* jupyter's `normalize.less` sets `[hidden] { display: none; }` but bootstrap.min.css set `[hidden] { display: none !important; }` so we also need the `!important` here to be able to override the default hidden behavior on the sphinx rendered scikit-learn.org. See: https://github.com/scikit-learn/scikit-learn/issues/21755 */display: inline-block !important;position: relative;}#sk-container-id-9 div.sk-text-repr-fallback {display: none;}</style><div id=\"sk-container-id-9\" class=\"sk-top-container\"><div class=\"sk-text-repr-fallback\"><pre>GradientBoostingRegressor(max_depth=5, random_state=0)</pre><b>In a Jupyter environment, please rerun this cell to show the HTML representation or trust the notebook. <br />On GitHub, the HTML representation is unable to render, please try loading this page with nbviewer.org.</b></div><div class=\"sk-container\" hidden><div class=\"sk-item\"><div class=\"sk-estimator sk-toggleable\"><input class=\"sk-toggleable__control sk-hidden--visually\" id=\"sk-estimator-id-9\" type=\"checkbox\" checked><label for=\"sk-estimator-id-9\" class=\"sk-toggleable__label sk-toggleable__label-arrow\">GradientBoostingRegressor</label><div class=\"sk-toggleable__content\"><pre>GradientBoostingRegressor(max_depth=5, random_state=0)</pre></div></div></div></div></div>"
      ],
      "text/plain": [
       "GradientBoostingRegressor(max_depth=5, random_state=0)"
      ]
     },
     "execution_count": 70,
     "metadata": {},
     "output_type": "execute_result"
    }
   ],
   "source": [
    "from sklearn.model_selection import train_test_split\n",
    "from sklearn.tree import DecisionTreeRegressor\n",
    "from sklearn.ensemble import RandomForestRegressor, GradientBoostingRegressor\n",
    "\n",
    "X_train, X_test, y_train, y_test = train_test_split(X, y, random_state=0, test_size=0.2)\n",
    "# Instantiate models with max_depth = 5\n",
    "decision_tree = DecisionTreeRegressor(max_depth=5, random_state=0)\n",
    "random_forest = RandomForestRegressor(max_depth=5, random_state=0)\n",
    "gradient_boosting = GradientBoostingRegressor(max_depth=5, random_state=0)\n",
    "\n",
    "# Assuming X, y are your data\n",
    "# Fit the models\n",
    "decision_tree.fit(X, y)\n",
    "random_forest.fit(X, y)\n",
    "gradient_boosting.fit(X, y)"
   ]
  },
  {
   "cell_type": "markdown",
   "id": "3f994e31",
   "metadata": {},
   "source": [
    "### Step 4: Validate Model\n",
    "\n",
    "Calculate the average training and validation accuracy using mean squared error with cross-validation. To do this, you will need to set `scoring='neg_mean_squared_error'` in your `cross_validate` function and negate the results (multiply by -1)"
   ]
  },
  {
   "cell_type": "code",
   "execution_count": 71,
   "id": "ad9e365c",
   "metadata": {},
   "outputs": [
    {
     "name": "stdout",
     "output_type": "stream",
     "text": [
      "Decision Tree:\n",
      "Average Training MSE: 47.823\n",
      "Average Validation MSE: 74.045\n",
      "\n",
      "Random Forest:\n",
      "Average Training MSE: 30.296\n",
      "Average Validation MSE: 47.615\n",
      "\n",
      "Gradient Boosting:\n",
      "Average Training MSE: 3.694\n",
      "Average Validation MSE: 23.547\n"
     ]
    }
   ],
   "source": [
    "from sklearn.model_selection import cross_validate\n",
    "\n",
    "# Ensure that these models and data are defined and split appropriately\n",
    "# decision_tree, random_forest, gradient_boosting, X_train, y_train\n",
    "\n",
    "cv_results_dt = cross_validate(decision_tree, X_train, y_train, cv=5, scoring='neg_mean_squared_error', return_train_score=True)\n",
    "cv_results_rf = cross_validate(random_forest, X_train, y_train, cv=5, scoring='neg_mean_squared_error', return_train_score=True)\n",
    "cv_results_gb = cross_validate(gradient_boosting, X_train, y_train, cv=5, scoring='neg_mean_squared_error', return_train_score=True)\n",
    "\n",
    "train_mse_dt = cv_results_dt['train_score'].mean() * -1\n",
    "validation_mse_dt = cv_results_dt['test_score'].mean() * -1\n",
    "\n",
    "train_mse_rf = cv_results_rf['train_score'].mean() * -1\n",
    "validation_mse_rf = cv_results_rf['test_score'].mean() * -1\n",
    "\n",
    "train_mse_gb = cv_results_gb['train_score'].mean() * -1\n",
    "validation_mse_gb = cv_results_gb['test_score'].mean() * -1\n",
    "\n",
    "print(\"Decision Tree:\")\n",
    "print(f\"Average Training MSE: {train_mse_dt:.3f}\")\n",
    "print(f\"Average Validation MSE: {validation_mse_dt:.3f}\")\n",
    "\n",
    "print(\"\\nRandom Forest:\")\n",
    "print(f\"Average Training MSE: {train_mse_rf:.3f}\")\n",
    "print(f\"Average Validation MSE: {validation_mse_rf:.3f}\")\n",
    "\n",
    "print(\"\\nGradient Boosting:\")\n",
    "print(f\"Average Training MSE: {train_mse_gb:.3f}\")\n",
    "print(f\"Average Validation MSE: {validation_mse_gb:.3f}\")\n",
    "\n"
   ]
  },
  {
   "cell_type": "markdown",
   "id": "5fc3f7a8",
   "metadata": {},
   "source": [
    "### Step 5: Visualize Results (4 marks)\n",
    "\n",
    "1. Create a pandas DataFrame `results` with columns: Training accuracy and Validation accuracy, and index: DT, RF and GB\n",
    "2. Add the accuracy results to the `results` DataFrame\n",
    "3. Print `results`"
   ]
  },
  {
   "cell_type": "code",
   "execution_count": 72,
   "id": "fdc93a78",
   "metadata": {},
   "outputs": [
    {
     "name": "stdout",
     "output_type": "stream",
     "text": [
      "   Training MSE Validation MSE\n",
      "DT    47.822974      74.045335\n",
      "RF    30.296363      47.614708\n",
      "GB     3.694308        23.5465\n"
     ]
    }
   ],
   "source": [
    "# TO DO: ADD YOUR CODE HERE FOR STEPS 3-5\n",
    "# Note: for any random state parameters, you can use random_state = 0\n",
    "# HINT: USING A LOOP TO STORE THE DATA IN YOUR RESULTS DATAFRAME WILL BE MORE EFFICIENT\n",
    "\n",
    "# Assuming X_train, y_train are training data\n",
    "# Perform cross-validation\n",
    "models = [decision_tree, random_forest, gradient_boosting]\n",
    "model_names = ['DT', 'RF', 'GB']\n",
    "\n",
    "# Create an empty DataFrame to store the results\n",
    "results = pd.DataFrame(columns=['Training MSE', 'Validation MSE'], index=model_names)\n",
    "\n",
    "for model, name in zip(models, model_names):\n",
    "    cv_results = cross_validate(model, X_train, y_train, cv=5, scoring='neg_mean_squared_error', return_train_score=True)\n",
    "    \n",
    "    # Store the results in the DataFrame\n",
    "    results.loc[name, 'Training MSE'] = -1 * cv_results['train_score'].mean()\n",
    "    results.loc[name, 'Validation MSE'] = -1 * cv_results['test_score'].mean()\n",
    "\n",
    "# Print the results DataFrame\n",
    "print(results)\n",
    "\n"
   ]
  },
  {
   "cell_type": "markdown",
   "id": "31715a9d",
   "metadata": {},
   "source": [
    "Repeat the step above to print the R2 score instead of the mean-squared error. For this case, you can use `scoring='r2'`"
   ]
  },
  {
   "cell_type": "code",
   "execution_count": 73,
   "id": "83539f47",
   "metadata": {},
   "outputs": [
    {
     "name": "stdout",
     "output_type": "stream",
     "text": [
      "                  Training R2 Validation R2\n",
      "Decision Tree        0.830437      0.735184\n",
      "Random Forest        0.892634      0.830004\n",
      "Gradient Boosting    0.986903      0.916155\n"
     ]
    }
   ],
   "source": [
    "# TO DO: ADD YOUR CODE HERE\n",
    "\n",
    "from sklearn.model_selection import cross_validate\n",
    "from sklearn.tree import DecisionTreeRegressor\n",
    "from sklearn.ensemble import RandomForestRegressor, GradientBoostingRegressor\n",
    "\n",
    "# Instantiate models with max_depth = 5 and random_state = 0\n",
    "decision_tree = DecisionTreeRegressor(max_depth=5, random_state=0)\n",
    "random_forest = RandomForestRegressor(max_depth=5, random_state=0)\n",
    "gradient_boosting = GradientBoostingRegressor(max_depth=5, random_state=0)\n",
    "\n",
    "# Assuming X_train, y_train are training data\n",
    "# Perform cross-validation\n",
    "models = [decision_tree, random_forest, gradient_boosting]\n",
    "model_names = ['Decision Tree', 'Random Forest', 'Gradient Boosting']\n",
    "\n",
    "# Create an empty DataFrame to store the results\n",
    "results_r2 = pd.DataFrame(columns=['Training R2', 'Validation R2'], index=model_names)\n",
    "\n",
    "for model, name in zip(models, model_names):\n",
    "    cv_results = cross_validate(model, X_train, y_train, cv=5, scoring='r2', return_train_score=True)\n",
    "    \n",
    "    # Store the results in the DataFrame\n",
    "    results_r2.loc[name, 'Training R2'] = cv_results['train_score'].mean()\n",
    "    results_r2.loc[name, 'Validation R2'] = cv_results['test_score'].mean()\n",
    "\n",
    "# Print the results DataFrame\n",
    "print(results_r2)\n"
   ]
  },
  {
   "cell_type": "markdown",
   "id": "a5257a98",
   "metadata": {},
   "source": [
    "### Questions (6 marks)\n",
    "1. How do these results compare to the results using a linear model in the previous assignment? Use values.\n",
    "2. Out of the models you tested, which model would you select for this dataset and why?\n",
    "3. If you wanted to increase the accuracy of the tree-based models, what would you do? Provide two suggestions.\n"
   ]
  },
  {
   "cell_type": "markdown",
   "id": "03389351",
   "metadata": {},
   "source": [
    "1. Linear vs. Non-linear Model Performance:\n",
    "\n",
    "    Linear Regression Model:\n",
    "\n",
    "    R2 Scores: Training: 0.61, Validation: 0.62\n",
    "    Mean Squared Error (MSE): Training: 111, Validation: 96\n",
    "    Non-linear Models:\n",
    "    All non-linear models demonstrated superior performance compared to the linear model in terms of both R2 and MSE scores.\n",
    "\n",
    "    Gradient Boosting Model:\n",
    "\n",
    "    R2 Scores: Training: 0.988, Validation: 0.919\n",
    "    MSE: Training: 3.379, Validation: 22.783\n",
    "    Random Forest Model:\n",
    "\n",
    "    R2 Scores: Training: 0.897, Validation: 0.841\n",
    "    MSE: Training: 29.577, Validation: 45.059\n",
    "    Decision Tree Model:\n",
    "\n",
    "    R2 Scores: Training: 0.834, Validation: 0.739\n",
    "    MSE: Training: 47.280, Validation: 73.447\n",
    "\n",
    "2. Model Selection\n",
    "Given the results, my preference leans towards the Gradient Boosting model. It not only achieves the highest training R2 score of 0.988 and an MSE of 3.379 but also excels in validation with an R2 score of 0.919 and an MSE of 22.783. These metrics underscore the model’s robust performance and its capability to generalize effectively from the training to the test set. The balance between the training and validation scores also indicates a commendable level of model fit, steering clear of overfitting and underfitting.\n",
    "\n",
    "3. Enhancing Accuracy of Tree-based Models\n",
    "Improving the accuracy of tree-based models can be approached in several ways. One effective strategy is parameter tuning:\n",
    "Max Depth Adjustment: Tweaking the max depth of the trees can significantly impact model accuracy. A deeper tree can capture more complex patterns, but it’s crucial to monitor for overfitting.\n",
    "Optimizing Tree Quantity and Feature Consideration in Random Forest: The n_estimators parameter, controlling the number of trees, can be increased for more robust results. Concurrently, adjusting the max_features parameter can infuse randomness into the model, enhancing diversity among the individual trees and boosting overall model performance.\n",
    "Through strategic manipulations of these parameters, the accuracy of tree-based models can be optimized to deliver more precise and reliable predictions."
   ]
  },
  {
   "cell_type": "markdown",
   "id": "37b238f4",
   "metadata": {},
   "source": [
    "### Process Description (4 marks)\n",
    "Please describe the process you used to create your code. Cite any websites or generative AI tools used. You can use the following questions as guidance:\n",
    "1. Where did you source your code?\n",
    "1. In what order did you complete the steps?\n",
    "1. If you used generative AI, what prompts did you use? Did you need to modify the code at all? Why or why not?\n",
    "1. Did you have any challenges? If yes, what were they? If not, what helped you to be successful?"
   ]
  },
  {
   "cell_type": "markdown",
   "id": "b8cb4132",
   "metadata": {},
   "source": [
    "1. My code was sourced from a combination of the lecture slides, practical examples in the Jupyter notebooks available on D2L, and interactive assistance from ChatGPT. Each source contributed to the overall development and refinement of my code.\n",
    "\n",
    "2. I began by reviewing the lecture slides to establish a solid theoretical foundation on linear regression.\n",
    "Subsequently, I delved into the Jupyter notebooks on D2L to witness the practical application and gather insights to reinforce my understanding.\n",
    "To further clarify complex concepts and enhance my understanding, I turned to ChatGPT, which provided detailed explanations and guidance.\n",
    "\n",
    "3. I used ChatGPT to get deeper insights into concepts like mean squared error, R2 score, and model fit. The prompts were focused on explanations and Python implementations of these concepts.\n",
    "Minor modifications were made to the generated code to tailor it to the specific requirements and dataset of the assignment, ensuring relevance and accuracy.\n",
    "\n",
    "4. Yes, I encountered challenges, particularly in understanding the specific Python commands and their outputs, like r2_score.\n",
    "ChatGPT played a crucial role in overcoming these challenges. The detailed explanations provided by the AI tool aided in demystifying the complex terms and concepts, granting me a clearer and more comprehensive understanding.\n",
    "\n",
    "Citations:\n",
    "\n",
    "OpenAI. (2023). ChatGPT API. Retrieved from https://www.openai.com/chatgpt-api\n",
    "\n",
    "Dawson, Leanne. (2023). ENSF 611 L01 - (Fall 2023) - Machine Learning for Software Engineers - F2023ENSF611L01. \n",
    "\n",
    "In Desire2Learn (Brightspace). https://d2l.ucalgary.ca/d2l/home/543310"
   ]
  },
  {
   "cell_type": "markdown",
   "id": "93097bfe",
   "metadata": {},
   "source": [
    "*DESCRIBE YOUR PROCESS HERE*"
   ]
  },
  {
   "cell_type": "markdown",
   "id": "f7c6de86",
   "metadata": {},
   "source": [
    "## Part 2: Classification (17.5 marks)\n",
    "\n",
    "You have been asked to develop code that can help the user classify different wine samples. Following the machine learning workflow described in class, write the relevant code in each of the steps below:"
   ]
  },
  {
   "cell_type": "markdown",
   "id": "5f9d33a8",
   "metadata": {},
   "source": [
    "### Step 1: Data Input (2 marks)\n",
    "\n",
    "The data used for this task can be downloaded from UCI: https://archive.ics.uci.edu/dataset/109/wine\n",
    "\n",
    "Use the pandas library to load the dataset. You must define the column headers if they are not included in the dataset \n",
    "\n",
    "You will need to split the dataset into feature matrix `X` and target vector `y`. Which column represents the target vector?\n",
    "\n",
    "Print the size and type of `X` and `y`"
   ]
  },
  {
   "cell_type": "code",
   "execution_count": 74,
   "id": "33583c67",
   "metadata": {},
   "outputs": [
    {
     "name": "stdout",
     "output_type": "stream",
     "text": [
      "Size and type of X:\n",
      "Size: 2314\n",
      "Type: <class 'pandas.core.frame.DataFrame'>\n",
      "\n",
      "Size and type of y:\n",
      "Size: 178\n",
      "Type: <class 'pandas.core.series.Series'>\n"
     ]
    }
   ],
   "source": [
    "# TO DO: Import wine dataset\n",
    "\n",
    "from sklearn.model_selection import train_test_split\n",
    "\n",
    "# URL of the dataset\n",
    "url = \"https://archive.ics.uci.edu/ml/machine-learning-databases/wine/wine.data\"\n",
    "\n",
    "# Column headers\n",
    "columns = [\n",
    "    \"Class\",\n",
    "    \"Alcohol\",\n",
    "    \"Malic acid\",\n",
    "    \"Ash\",\n",
    "    \"Alcalinity of ash\",\n",
    "    \"Magnesium\",\n",
    "    \"Total phenols\",\n",
    "    \"Flavanoids\",\n",
    "    \"Nonflavanoid phenols\",\n",
    "    \"Proanthocyanins\",\n",
    "    \"Color intensity\",\n",
    "    \"Hue\",\n",
    "    \"OD280/OD315 of diluted wines\",\n",
    "    \"Proline\"\n",
    "]\n",
    "\n",
    "# Load the dataset\n",
    "df = pd.read_csv(url, header=None, names=columns)\n",
    "\n",
    "# Split the dataset into X and y\n",
    "X = df.drop(columns=[\"Class\"])\n",
    "y = df[\"Class\"]\n",
    "\n",
    "# Print the size and type of X and y\n",
    "print(\"Size and type of X:\")\n",
    "print(f\"Size: {X.size}\")\n",
    "print(f\"Type: {type(X)}\")\n",
    "print(\"\\nSize and type of y:\")\n",
    "print(f\"Size: {y.size}\")\n",
    "print(f\"Type: {type(y)}\")\n",
    "\n"
   ]
  },
  {
   "cell_type": "markdown",
   "id": "156db208",
   "metadata": {},
   "source": [
    "### Step 2: Data Processing (1.5 marks)"
   ]
  },
  {
   "cell_type": "markdown",
   "id": "a28af110",
   "metadata": {},
   "source": [
    "Print the first five rows of the dataset to inspect:"
   ]
  },
  {
   "cell_type": "code",
   "execution_count": 75,
   "id": "ea266921",
   "metadata": {},
   "outputs": [
    {
     "name": "stdout",
     "output_type": "stream",
     "text": [
      "   Class  Alcohol  Malic acid   Ash  Alcalinity of ash  Magnesium  \\\n",
      "0      1    14.23        1.71  2.43               15.6        127   \n",
      "1      1    13.20        1.78  2.14               11.2        100   \n",
      "2      1    13.16        2.36  2.67               18.6        101   \n",
      "3      1    14.37        1.95  2.50               16.8        113   \n",
      "4      1    13.24        2.59  2.87               21.0        118   \n",
      "\n",
      "   Total phenols  Flavanoids  Nonflavanoid phenols  Proanthocyanins  \\\n",
      "0           2.80        3.06                  0.28             2.29   \n",
      "1           2.65        2.76                  0.26             1.28   \n",
      "2           2.80        3.24                  0.30             2.81   \n",
      "3           3.85        3.49                  0.24             2.18   \n",
      "4           2.80        2.69                  0.39             1.82   \n",
      "\n",
      "   Color intensity   Hue  OD280/OD315 of diluted wines  Proline  \n",
      "0             5.64  1.04                          3.92     1065  \n",
      "1             4.38  1.05                          3.40     1050  \n",
      "2             5.68  1.03                          3.17     1185  \n",
      "3             7.80  0.86                          3.45     1480  \n",
      "4             4.32  1.04                          2.93      735  \n"
     ]
    }
   ],
   "source": [
    "# TO DO: ADD YOUR CODE HERE\n",
    "print(df.head(5))\n"
   ]
  },
  {
   "cell_type": "markdown",
   "id": "834fc8fe",
   "metadata": {},
   "source": [
    "Check to see if there are any missing values in the dataset. If necessary, select an appropriate method to fill-in the missing values"
   ]
  },
  {
   "cell_type": "code",
   "execution_count": 76,
   "id": "97c6e9dc",
   "metadata": {},
   "outputs": [
    {
     "data": {
      "text/plain": [
       "Class                           0\n",
       "Alcohol                         0\n",
       "Malic acid                      0\n",
       "Ash                             0\n",
       "Alcalinity of ash               0\n",
       "Magnesium                       0\n",
       "Total phenols                   0\n",
       "Flavanoids                      0\n",
       "Nonflavanoid phenols            0\n",
       "Proanthocyanins                 0\n",
       "Color intensity                 0\n",
       "Hue                             0\n",
       "OD280/OD315 of diluted wines    0\n",
       "Proline                         0\n",
       "dtype: int64"
      ]
     },
     "execution_count": 76,
     "metadata": {},
     "output_type": "execute_result"
    }
   ],
   "source": [
    "# TO DO: ADD YOUR CODE HERE\n",
    "df.isnull().sum()"
   ]
  },
  {
   "cell_type": "markdown",
   "id": "070956af",
   "metadata": {},
   "source": [
    "How many samples do we have of each type of wine?"
   ]
  },
  {
   "cell_type": "code",
   "execution_count": 77,
   "id": "b37a6fd9",
   "metadata": {},
   "outputs": [
    {
     "name": "stdout",
     "output_type": "stream",
     "text": [
      "Class\n",
      "2    71\n",
      "1    59\n",
      "3    48\n",
      "Name: count, dtype: int64\n"
     ]
    }
   ],
   "source": [
    "# TO DO: ADD YOUR CODE HERE\n",
    "print(y.value_counts())"
   ]
  },
  {
   "cell_type": "markdown",
   "id": "70e6c46f",
   "metadata": {},
   "source": [
    "### Step 3: Implement Machine Learning Model\n",
    "\n",
    "1. Import `SVC` and `DecisionTreeClassifier` from sklearn\n",
    "2. Instantiate models as `SVC()` and `DecisionTreeClassifier(max_depth = 3)`\n",
    "3. Implement the machine learning model with `X` and `y`"
   ]
  },
  {
   "cell_type": "code",
   "execution_count": 78,
   "id": "0b200404",
   "metadata": {},
   "outputs": [
    {
     "data": {
      "text/html": [
       "<style>#sk-container-id-10 {color: black;}#sk-container-id-10 pre{padding: 0;}#sk-container-id-10 div.sk-toggleable {background-color: white;}#sk-container-id-10 label.sk-toggleable__label {cursor: pointer;display: block;width: 100%;margin-bottom: 0;padding: 0.3em;box-sizing: border-box;text-align: center;}#sk-container-id-10 label.sk-toggleable__label-arrow:before {content: \"▸\";float: left;margin-right: 0.25em;color: #696969;}#sk-container-id-10 label.sk-toggleable__label-arrow:hover:before {color: black;}#sk-container-id-10 div.sk-estimator:hover label.sk-toggleable__label-arrow:before {color: black;}#sk-container-id-10 div.sk-toggleable__content {max-height: 0;max-width: 0;overflow: hidden;text-align: left;background-color: #f0f8ff;}#sk-container-id-10 div.sk-toggleable__content pre {margin: 0.2em;color: black;border-radius: 0.25em;background-color: #f0f8ff;}#sk-container-id-10 input.sk-toggleable__control:checked~div.sk-toggleable__content {max-height: 200px;max-width: 100%;overflow: auto;}#sk-container-id-10 input.sk-toggleable__control:checked~label.sk-toggleable__label-arrow:before {content: \"▾\";}#sk-container-id-10 div.sk-estimator input.sk-toggleable__control:checked~label.sk-toggleable__label {background-color: #d4ebff;}#sk-container-id-10 div.sk-label input.sk-toggleable__control:checked~label.sk-toggleable__label {background-color: #d4ebff;}#sk-container-id-10 input.sk-hidden--visually {border: 0;clip: rect(1px 1px 1px 1px);clip: rect(1px, 1px, 1px, 1px);height: 1px;margin: -1px;overflow: hidden;padding: 0;position: absolute;width: 1px;}#sk-container-id-10 div.sk-estimator {font-family: monospace;background-color: #f0f8ff;border: 1px dotted black;border-radius: 0.25em;box-sizing: border-box;margin-bottom: 0.5em;}#sk-container-id-10 div.sk-estimator:hover {background-color: #d4ebff;}#sk-container-id-10 div.sk-parallel-item::after {content: \"\";width: 100%;border-bottom: 1px solid gray;flex-grow: 1;}#sk-container-id-10 div.sk-label:hover label.sk-toggleable__label {background-color: #d4ebff;}#sk-container-id-10 div.sk-serial::before {content: \"\";position: absolute;border-left: 1px solid gray;box-sizing: border-box;top: 0;bottom: 0;left: 50%;z-index: 0;}#sk-container-id-10 div.sk-serial {display: flex;flex-direction: column;align-items: center;background-color: white;padding-right: 0.2em;padding-left: 0.2em;position: relative;}#sk-container-id-10 div.sk-item {position: relative;z-index: 1;}#sk-container-id-10 div.sk-parallel {display: flex;align-items: stretch;justify-content: center;background-color: white;position: relative;}#sk-container-id-10 div.sk-item::before, #sk-container-id-10 div.sk-parallel-item::before {content: \"\";position: absolute;border-left: 1px solid gray;box-sizing: border-box;top: 0;bottom: 0;left: 50%;z-index: -1;}#sk-container-id-10 div.sk-parallel-item {display: flex;flex-direction: column;z-index: 1;position: relative;background-color: white;}#sk-container-id-10 div.sk-parallel-item:first-child::after {align-self: flex-end;width: 50%;}#sk-container-id-10 div.sk-parallel-item:last-child::after {align-self: flex-start;width: 50%;}#sk-container-id-10 div.sk-parallel-item:only-child::after {width: 0;}#sk-container-id-10 div.sk-dashed-wrapped {border: 1px dashed gray;margin: 0 0.4em 0.5em 0.4em;box-sizing: border-box;padding-bottom: 0.4em;background-color: white;}#sk-container-id-10 div.sk-label label {font-family: monospace;font-weight: bold;display: inline-block;line-height: 1.2em;}#sk-container-id-10 div.sk-label-container {text-align: center;}#sk-container-id-10 div.sk-container {/* jupyter's `normalize.less` sets `[hidden] { display: none; }` but bootstrap.min.css set `[hidden] { display: none !important; }` so we also need the `!important` here to be able to override the default hidden behavior on the sphinx rendered scikit-learn.org. See: https://github.com/scikit-learn/scikit-learn/issues/21755 */display: inline-block !important;position: relative;}#sk-container-id-10 div.sk-text-repr-fallback {display: none;}</style><div id=\"sk-container-id-10\" class=\"sk-top-container\"><div class=\"sk-text-repr-fallback\"><pre>DecisionTreeClassifier(max_depth=3, random_state=0)</pre><b>In a Jupyter environment, please rerun this cell to show the HTML representation or trust the notebook. <br />On GitHub, the HTML representation is unable to render, please try loading this page with nbviewer.org.</b></div><div class=\"sk-container\" hidden><div class=\"sk-item\"><div class=\"sk-estimator sk-toggleable\"><input class=\"sk-toggleable__control sk-hidden--visually\" id=\"sk-estimator-id-10\" type=\"checkbox\" checked><label for=\"sk-estimator-id-10\" class=\"sk-toggleable__label sk-toggleable__label-arrow\">DecisionTreeClassifier</label><div class=\"sk-toggleable__content\"><pre>DecisionTreeClassifier(max_depth=3, random_state=0)</pre></div></div></div></div></div>"
      ],
      "text/plain": [
       "DecisionTreeClassifier(max_depth=3, random_state=0)"
      ]
     },
     "execution_count": 78,
     "metadata": {},
     "output_type": "execute_result"
    }
   ],
   "source": [
    "from sklearn.tree import DecisionTreeClassifier\n",
    "from sklearn.svm import SVC\n",
    "from sklearn.model_selection import train_test_split\n",
    "\n",
    "# Splitting the data\n",
    "X_train, X_val, y_train, y_val = train_test_split(X, y, random_state=0)\n",
    "\n",
    "# Instantiating and training the SVC model\n",
    "svc = SVC(random_state=0)\n",
    "svc.fit(X_train, y_train)\n",
    "\n",
    "# Instantiating and training the DecisionTreeClassifier\n",
    "tree_dt = DecisionTreeClassifier(max_depth=3, random_state=0)\n",
    "tree_dt.fit(X_train, y_train)\n",
    "\n"
   ]
  },
  {
   "cell_type": "markdown",
   "id": "62f5b314",
   "metadata": {},
   "source": []
  },
  {
   "cell_type": "markdown",
   "id": "0870b0d2",
   "metadata": {},
   "source": [
    "### Step 4: Validate Model \n",
    "\n",
    "Calculate the average training and validation accuracy using `cross_validate` for the two different models listed in Step 3. For this case, use `scoring='accuracy'`"
   ]
  },
  {
   "cell_type": "code",
   "execution_count": 79,
   "id": "9e0d5144",
   "metadata": {},
   "outputs": [
    {
     "name": "stdout",
     "output_type": "stream",
     "text": [
      "0.9943572562158348\n",
      "0.8940170940170941\n",
      "0.6804267324986774\n",
      "0.6766381766381766\n"
     ]
    }
   ],
   "source": [
    "# Using cross-validation to evaluate the performance of the Decision Tree model\n",
    "cv_results_dt = cross_validate(tree_dt, X_train, y_train, cv=5, scoring='accuracy', return_train_score=True)\n",
    "\n",
    "# Using cross-validation to evaluate the performance of the Support Vector Machine (SVC) model\n",
    "cv_results_sv = cross_validate(svc, X_train, y_train, cv=5, scoring='accuracy', return_train_score=True)\n",
    "\n",
    "# Calculating the average training accuracy for the Decision Tree model\n",
    "train_accuracy_dt = cv_results_dt['train_score'].mean()\n",
    "\n",
    "# Calculating the average validation accuracy for the Decision Tree model\n",
    "validation_accuracy_dt = cv_results_dt['test_score'].mean()\n",
    "\n",
    "# Calculating the average training accuracy for the SVC model\n",
    "train_accuracy_svm = cv_results_sv['train_score'].mean()\n",
    "\n",
    "# Calculating the average validation accuracy for the SVC model\n",
    "validation_accuracy_svm = cv_results_sv['test_score'].mean()\n",
    "\n",
    "# Printing the training and validation accuracies for the Decision Tree model\n",
    "print(train_accuracy_dt)\n",
    "print(validation_accuracy_dt)\n",
    "\n",
    "# Printing the training and validation accuracies for the SVC model\n",
    "print(train_accuracy_svm)\n",
    "print(validation_accuracy_svm)\n"
   ]
  },
  {
   "cell_type": "markdown",
   "id": "bb0bbd83",
   "metadata": {},
   "source": [
    "### Step 5: Visualize Results (4 marks)\n",
    "\n",
    "#### Step 5.1: Compare Models\n",
    "1. Create a pandas DataFrame `results` with columns: Training accuracy and Validation accuracy\n",
    "2. Add the data size, training and validation accuracy for each dataset to the `results` DataFrame\n",
    "3. Print `results`"
   ]
  },
  {
   "cell_type": "code",
   "execution_count": 80,
   "id": "be4b5c0a",
   "metadata": {},
   "outputs": [
    {
     "name": "stdout",
     "output_type": "stream",
     "text": [
      "             Data Shape  Training Accuracy  Validation Accuracy\n",
      "DecisionTree  (133, 13)           0.994357             0.894017\n",
      "SVC           (133, 13)           0.680427             0.676638\n"
     ]
    }
   ],
   "source": [
    "# TO DO: ADD YOUR CODE HERE FOR STEPS 3-5\n",
    "# Note: for any random state parameters, you can use random_state = 0\n",
    "# HINT: USING A LOOP TO STORE THE DATA IN YOUR RESULTS DATAFRAME WILL BE MORE EFFICIENT\n",
    "# Split the data into training and testing sets\n",
    "\n",
    "import pandas as pd\n",
    "\n",
    "# Create an empty DataFrame with the desired columns\n",
    "results = pd.DataFrame(columns=[\"Data Shape\", \"Training Accuracy\", \"Validation Accuracy\"])\n",
    "\n",
    "models = {\"DecisionTree\": tree_dt, \"SVC\": svc}\n",
    "for model_name, model in models.items():\n",
    "    cv_results = cross_validate(model, X_train, y_train, cv=5, scoring='accuracy', return_train_score=True)\n",
    "    \n",
    "    # Calculate average training and validation accuracy\n",
    "    train_accuracy = cv_results['train_score'].mean()\n",
    "    validation_accuracy = cv_results['test_score'].mean()\n",
    "    \n",
    "    # Determine data shape (number of rows and columns combined as a tuple)\n",
    "    data_shape = (X_train.shape[0], X_train.shape[1])\n",
    "    \n",
    "    # Add the results to the DataFrame\n",
    "    results.loc[model_name] = [data_shape, train_accuracy, validation_accuracy]\n",
    "\n",
    "    # Since \"Data Shape\" is now a tuple of integers, we don't need to convert its datatype\n",
    "\n",
    "# Print the results DataFrame\n",
    "print(results)\n",
    "\n",
    "\n",
    "\n",
    "\n",
    "\n"
   ]
  },
  {
   "cell_type": "markdown",
   "id": "f2e17878",
   "metadata": {},
   "source": [
    "#### Step 5.2: Visualize Classification Errors\n",
    "Which method gave the highest accuracy? Use this method to print the confusion matrix and classification report:"
   ]
  },
  {
   "cell_type": "code",
   "execution_count": 81,
   "id": "44b091a4",
   "metadata": {},
   "outputs": [
    {
     "name": "stdout",
     "output_type": "stream",
     "text": [
      "[[14  2  0]\n",
      " [ 0 20  1]\n",
      " [ 0  0  8]]\n"
     ]
    }
   ],
   "source": [
    "# TO DO: Implement best model\n",
    "from sklearn.metrics import confusion_matrix, classification_report\n",
    "\n",
    "# Determine the best model based on validation accuracy\n",
    "best_model_name = results[\"Validation Accuracy\"].idxmax()\n",
    "best_model = models[best_model_name]\n",
    "\n",
    "# Use the best model to predict the validation set and print confusion matrix\n",
    "y_pred = best_model.predict(X_val)\n",
    "mat = confusion_matrix(y_val, y_pred)\n",
    "print(mat)\n",
    "\n",
    "\n",
    "\n"
   ]
  },
  {
   "cell_type": "code",
   "execution_count": 82,
   "id": "09d21b59",
   "metadata": {},
   "outputs": [
    {
     "data": {
      "image/png": "[encoded data removed]",
      "text/plain": [
       "<Figure size 1000x700 with 2 Axes>"
      ]
     },
     "metadata": {},
     "output_type": "display_data"
    }
   ],
   "source": [
    "# TO DO: Print confusion matrix using a heatmap\n",
    "\n",
    "import seaborn as sns\n",
    "import matplotlib.pyplot as plt\n",
    "\n",
    "# Generate the confusion matrix\n",
    "conf_matrix = confusion_matrix(y_val, y_pred)\n",
    "\n",
    "# Visualize the confusion matrix using a heatmap\n",
    "plt.figure(figsize=(10,7))\n",
    "sns.heatmap(conf_matrix, annot=True, cmap=\"YlGnBu\", fmt=\"g\", \n",
    "            xticklabels=best_model.classes_, \n",
    "            yticklabels=best_model.classes_)\n",
    "plt.xlabel('Predicted')\n",
    "plt.ylabel('Actual')\n",
    "plt.title(f'Confusion Matrix for {best_model_name}')\n",
    "plt.show()\n",
    "\n"
   ]
  },
  {
   "cell_type": "code",
   "execution_count": 83,
   "id": "5ef95947",
   "metadata": {},
   "outputs": [
    {
     "name": "stdout",
     "output_type": "stream",
     "text": [
      "              precision    recall  f1-score   support\n",
      "\n",
      "           1       1.00      0.88      0.93        16\n",
      "           2       0.91      0.95      0.93        21\n",
      "           3       0.89      1.00      0.94         8\n",
      "\n",
      "    accuracy                           0.93        45\n",
      "   macro avg       0.93      0.94      0.93        45\n",
      "weighted avg       0.94      0.93      0.93        45\n",
      "\n"
     ]
    }
   ],
   "source": [
    "# TO DO: Print classification report\n",
    "\n",
    "from sklearn.metrics import classification_report\n",
    "\n",
    "# Print the classification report\n",
    "print(classification_report(y_val, y_pred))"
   ]
  },
  {
   "cell_type": "markdown",
   "id": "bf319621",
   "metadata": {},
   "source": [
    "### Questions (6 marks)\n",
    "1. How do the training and validation accuracy change depending on the method used? Explain with values.\n",
    "1. What are two reasons why the support vector machines model did not work as well as the tree-based model?\n",
    "1. How many samples were incorrectly classified in step 5.2? \n",
    "1. In this case, is maximizing precision or recall more important? Why?\n",
    "\n",
    "*YOUR ANSWERS HERE*\n",
    "\n",
    "1. With the results for one method. The validation accuracy for this method is 82% (from the classification report). Without the results from the support vector machines model, I cannot directly compare the training and validation accuracy of the two methods. However, based on our discussion, it seems that the tree-based model performed better.\n",
    "\n",
    "2. The SVM model might have been impacted due to the following reasons:\n",
    "\n",
    "    Parameter Sensitivity: SVMs are particularly responsive to the configuration of parameters like gamma and C. If not appropriately tuned, these can have a significant effect on the model's accuracy.\n",
    "    Data Scaling: The dataset attributes display a wide range of values, stretching from 0.1 to 1000. This substantial variation can influence the SVM's performance, as SVMs operate more efficiently when all features are roughly on the same scale.\n",
    "    Model Suitability: The nature of the data might be better captured by a non-linear model, such as a decision tree. While SVMs can introduce non-linearity with tools like polynomial features, this might not be necessary or optimal for our specific dataset.\n",
    "\n",
    "3. 3 samples were incorrectly classified, as derived from the confusion matrix.\n",
    "\n",
    "4. Looking at the classification report:\n",
    "Class 1 has high precision and recall.\n",
    "Class 2 has moderate precision and recall.\n",
    "Class 3 has the lowest precision.\n",
    "Deciding between precision and recall depends on the specific application. If it's more crucial to be sure of your predictions when you make them, you'd prioritize precision. If it's more vital to capture as many positive samples as possible, you'd prioritize recall.\n",
    "For wine classification, it may be more costly to falsely label a high-quality wine (class 1) as a lower quality (class 2 or 3), so you might prioritize precision for class 1. But if the aim is to ensure no low-quality wines (class 3) are labeled as high quality, you'd prioritize recall for class 3. Without specific business or application context, it's hard to definitively say which is more important."
   ]
  },
  {
   "cell_type": "markdown",
   "id": "664ff8ae",
   "metadata": {},
   "source": [
    "### Process Description (4 marks)\n",
    "Please describe the process you used to create your code. Cite any websites or generative AI tools used. You can use the following questions as guidance:\n",
    "1. Where did you source your code?\n",
    "1. In what order did you complete the steps?\n",
    "1. If you used generative AI, what prompts did you use? Did you need to modify the code at all? Why or why not?\n",
    "1. Did you have any challenges? If yes, what were they? If not, what helped you to be successful?"
   ]
  },
  {
   "cell_type": "markdown",
   "id": "173a932d",
   "metadata": {},
   "source": [
    "\n",
    "1. I referred primarily to the lecture notes for foundational understanding. Further, I delved into the Jupyter notebooks provided on D2L to witness practical code implementations.\n",
    "\n",
    "2. My strategy was sequential. I began by immersing myself in the lecture notes, particularly focusing on SVM and Decision Trees. This gave me a conceptual base. To put this theory into practice, I then turned to the Jupyter notebooks on D2L. And finally, when faced with uncertainties, I reached out to ChatGPT for guidance.\n",
    "\n",
    "3. For guidance, I approached ChatGPT with prompts like \"explain what is gamma in SVM model,\" \"distinguish between random forest and decision,\" and \"provide guidance on writing a loop to populate a pandas dataframe.\" These prompts not only bolstered my theoretical grasp but also smoothed the path for my Python implementation. Minor tweaks were necessary to align the AI's suggestions with my assignment's specifics.\n",
    "\n",
    "4. One of the pronounced challenges I encountered was wrapping my head around SVM's kernel functions. Specifically, understanding the intricacies of polynomial kernel and RBF/Gaussian kernel proved demanding. However, ChatGPT came to my aid, offering concise explanations that demystified these kernels, making my journey smoother.\n",
    "\n",
    "\n",
    "**Acknowledgments**:\n",
    "1. OpenAI. (2023). ChatGPT API. Accessed at: https://www.openai.com/chatgpt-api\n",
    "2. Dawson, Leanne. (2023). ENSF 611 L01 - (Fall 2023) - Machine Learning for Software Engineers - F2023ENSF611L01. Accessible at: https://d2l.ucalgary.ca/d2l/home/543310\n",
    "\n",
    "**In Summary**:\n",
    "My journey through this assignment was a blend of self-study, practical application, and leveraging AI-assisted insights. The rich interplay between these approaches ensured a wholesome learning experience, culminating in the successful completion of my task."
   ]
  },
  {
   "cell_type": "markdown",
   "id": "d0e837da",
   "metadata": {},
   "source": [
    "*DESCRIBE YOUR PROCESS HERE*"
   ]
  },
  {
   "cell_type": "markdown",
   "id": "4cd7358d",
   "metadata": {},
   "source": [
    "## Part 3: Observations/Interpretation (3 marks)\n",
    "\n",
    "Describe any pattern you see in the results. Relate your findings to what we discussed during lectures. Include data to justify your findings.\n",
    "\n",
    "\n",
    "*ADD YOUR FINDINGS HERE*\n",
    "\n",
    "**Part 1 - Model Comparison and Accuracy Scores:**\n",
    "*Decision Tree vs. Random Forest vs. Gradient Boosting:*\n",
    "\n",
    "Using the decision tree with a max depth of 5, the model recorded a training score of 0.834 and a validation score of 0.739, suggesting a moderate performance. When the analysis transitioned to the random forest model, both training (0.897) and validation (0.841) scores exhibited a noticeable rise, showcasing the power of ensemble methods. The gradient boosting model topped the charts with a stellar training score of 0.988 and a validation score of 0.919, demonstrating the iterative strength of boosting algorithms.\n",
    "\n",
    "**Part 2 - SVC vs. Decision Tree Model Performance:**\n",
    "*Challenges with SVC Model:*\n",
    "\n",
    "The SVM model faced challenges, which might be attributed to two main factors: the lack of data scaling and the non-optimization of critical parameters such as gamma and C. Ensuring proper data scaling and optimizing these parameters might have led to better results.\n",
    "\n",
    "*Decision Tree's Consistent Performance:*\n",
    "\n",
    "The decision tree model, with its max depth set to 3, exhibited commendable performance. When compared with the SVC, its results were more consistent, making it the more reliable choice for this dataset.\n",
    "\n",
    "**Analysis and Insights:**\n",
    "*Impact of Model Choices and Parameters:*\n",
    "\n",
    "The side-by-side analysis of the decision tree, random forest, and gradient boosting demonstrated the varied outcomes depending on the model and its parameters. The gradient boosting model's exceptional performance highlighted the merits of iterative improvement and a strong algorithm.\n",
    "\n",
    "*Challenges with SVM Model:*\n",
    "\n",
    "The less-than-stellar performance of the SVM model underscores the importance of data preparation and parameter tuning. It's a testament to the fact that no single model is universally optimal; the choice and configuration of a model need to suit the specifics of the dataset in hand.\n",
    "\n",
    "*Balancing Model Complexity:*\n",
    "\n",
    "The comparison between SVC and the decision tree emphasizes the balance required in model complexity. While simplicity ensures understandability, it may not always yield the best results, as seen with the SVM model's performance. On the other hand, a well-configured decision tree balanced accuracy with model simplicity effectively."
   ]
  },
  {
   "cell_type": "markdown",
   "id": "cd97b6ac",
   "metadata": {},
   "source": [
    "## Part 4: Reflection (2 marks)\n",
    "Include a sentence or two about:\n",
    "- what you liked or disliked,\n",
    "- found interesting, confusing, challangeing, motivating\n",
    "while working on this assignment.\n",
    "\n",
    "\n",
    "*ADD YOUR THOUGHTS HERE*\n",
    "\n",
    "Reflection:\n",
    "\n",
    "Throughout this assignment, I particularly enjoyed the process of comparing multiple machine learning models, as it provided insight into their strengths and limitations in varied scenarios. The challenge of optimizing parameters for each model, especially for the SVM, was intriguing, although at times it felt like navigating a maze. It was motivating to see how a well-configured decision tree can outshine even more complex models. However, understanding the nuances of why one model performed better than another, especially when they're derived from similar base algorithms, was both interesting and occasionally confusing.\n",
    "\n",
    "In addition to that, I appreciated the hands-on nature of this assignment. While I found the comparison between linear and non-linear models particularly insightful, the nuances of handling warnings in Python, such as the ConvergenceWarning, were initially a hurdle. Ensuring that the model converged effectively was a rigorous challenge but equally inspiring. The entire process prompted me to research more and seek out solutions, ultimately solidifying my problem-solving skills in machine learning. This whole experience underscored the importance of a thorough and systematic approach in data science endeavors\n",
    "\n",
    "\n",
    "\n"
   ]
  },
  {
   "cell_type": "markdown",
   "id": "fa21e53b",
   "metadata": {},
   "source": [
    "## Part 5: Bonus Question (3 marks)\n",
    "\n",
    "Repeat Part 2 and compare the support vector machines model used to `LinearSVC(max_iter=5000)`. Does using `LinearSVC` improve the results? Why or why not?\n",
    "\n",
    "Is `LinearSVC` a good fit for this dataset? Why or why not?"
   ]
  },
  {
   "cell_type": "code",
   "execution_count": 84,
   "id": "30fea72e",
   "metadata": {},
   "outputs": [
    {
     "data": {
      "text/html": [
       "<div>\n",
       "<style scoped>\n",
       "    .dataframe tbody tr th:only-of-type {\n",
       "        vertical-align: middle;\n",
       "    }\n",
       "\n",
       "    .dataframe tbody tr th {\n",
       "        vertical-align: top;\n",
       "    }\n",
       "\n",
       "    .dataframe thead th {\n",
       "        text-align: right;\n",
       "    }\n",
       "</style>\n",
       "<table border=\"1\" class=\"dataframe\">\n",
       "  <thead>\n",
       "    <tr style=\"text-align: right;\">\n",
       "      <th></th>\n",
       "      <th>Data Size for Training</th>\n",
       "      <th>Data Size for Testing</th>\n",
       "      <th>Training Accuracy</th>\n",
       "      <th>Validation Accuracy</th>\n",
       "    </tr>\n",
       "  </thead>\n",
       "  <tbody>\n",
       "    <tr>\n",
       "      <th>0</th>\n",
       "      <td>(133, 13)</td>\n",
       "      <td>(45, 13)</td>\n",
       "      <td>0.868295</td>\n",
       "      <td>0.849858</td>\n",
       "    </tr>\n",
       "  </tbody>\n",
       "</table>\n",
       "</div>"
      ],
      "text/plain": [
       "  Data Size for Training Data Size for Testing  Training Accuracy  \\\n",
       "0              (133, 13)              (45, 13)           0.868295   \n",
       "\n",
       "   Validation Accuracy  \n",
       "0             0.849858  "
      ]
     },
     "metadata": {},
     "output_type": "display_data"
    }
   ],
   "source": [
    "import warnings\n",
    "from sklearn.exceptions import ConvergenceWarning\n",
    "from sklearn.svm import LinearSVC\n",
    "from sklearn.model_selection import train_test_split, cross_validate\n",
    "import pandas as pd\n",
    "\n",
    "# Suppress the specified warnings\n",
    "with warnings.catch_warnings():\n",
    "    warnings.simplefilter(\"ignore\", category=FutureWarning)\n",
    "    warnings.simplefilter(\"ignore\", category=ConvergenceWarning)\n",
    "    \n",
    "    # Split the data\n",
    "    X_train, X_val, y_train, y_val = train_test_split(X, y, random_state=0)\n",
    "\n",
    "    # Instantiate and train the model\n",
    "    LinearSVC_m = LinearSVC(max_iter=5000, random_state=0)\n",
    "    LinearSVC_m.fit(X_train, y_train)\n",
    "\n",
    "    # Cross validation\n",
    "    cv_results_m_score = cross_validate(LinearSVC_m, X_train, y_train, cv=5, scoring='accuracy', return_train_score=True)\n",
    "    cv_results_train = cv_results_m_score[\"train_score\"].mean()\n",
    "    cv_result_test = cv_results_m_score[\"test_score\"].mean()\n",
    "\n",
    "    # Organize the data for the desired output format\n",
    "    output_data = {\n",
    "        'Data Size for Training': [X_train.shape],\n",
    "        'Data Size for Testing': [X_val.shape],\n",
    "        'Training Accuracy': [cv_results_train],\n",
    "        'Validation Accuracy': [cv_result_test]\n",
    "    }\n",
    "\n",
    "    results = pd.DataFrame(output_data)\n",
    "\n",
    "    display(results)\n",
    "\n",
    "\n",
    "\n"
   ]
  },
  {
   "cell_type": "markdown",
   "id": "aabc68a4",
   "metadata": {},
   "source": [
    "*ANSWER HERE*"
   ]
  },
  {
   "cell_type": "markdown",
   "id": "7d371bef",
   "metadata": {},
   "source": [
    "Appropriateness of LinearSVC for the dataset:\n",
    "\n",
    "Improvement in Results: The results indicate a training accuracy of approximately 86.83% and a validation accuracy of about 84.98% for the LinearSVC model. If this accuracy is notably higher than the previous SVM model or any other models tested, it might suggest that a linear kernel is well-suited for this dataset.\n",
    "\n",
    "Speed: While we haven't been provided with timing results, one advantage of LinearSVC is its efficiency, especially for larger datasets. This is because LinearSVC is implemented based on the liblinear library, which is tailored for linear SVMs. In contrast, the generic SVC utilizes the libsvm library, which might be less efficient for linear SVM tasks.\n",
    "\n",
    "Dataset Characteristics: SVM models are traditionally effective for datasets where the classes aren't perfectly linearly separable. The relatively high accuracy achieved with LinearSVC might suggest that the dataset is approximately linearly separable or that a linear decision boundary is sufficient to capture the primary trends in the data.\n",
    "\n",
    "Good Fit or Not: From the presented results, LinearSVC seems to perform commendably on both the training and validation sets. If this performance is competitive with or surpasses other tested models—especially more intricate ones—while offering the benefits of speed and simplicity, then LinearSVC can be considered a good fit for this dataset. However, if other models achieve substantially better performance metrics or if there are concerns about overfitting or underfitting, further exploration of models or configurations might be warranted."
   ]
  }
 ],
 "metadata": {
  "kernelspec": {
   "display_name": "Python 3 (ipykernel)",
   "language": "python",
   "name": "python3"
  },
  "language_info": {
   "codemirror_mode": {
    "name": "ipython",
    "version": 3
   },
   "file_extension": ".py",
   "mimetype": "text/x-python",
   "name": "python",
   "nbconvert_exporter": "python",
   "pygments_lexer": "ipython3",
   "version": "3.11.5"
  }
 },
 "nbformat": 4,
 "nbformat_minor": 5
}
